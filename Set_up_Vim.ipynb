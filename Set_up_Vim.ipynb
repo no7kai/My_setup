{
 "cells": [
  {
   "cell_type": "markdown",
   "metadata": {},
   "source": [
    "### Follow this link\n",
    "\n",
    "https://realpython.com/vim-and-python-a-match-made-in-heaven/"
   ]
  },
  {
   "cell_type": "markdown",
   "metadata": {},
   "source": [
    "### YouCompleteMe extension\n",
    "\n",
    "https://github.com/ycm-core/YouCompleteMe\n",
    "\n",
    " Ubuntu:\n",
    " \n",
    " `sudo apt install build-essential cmake python3-dev`\n",
    " \n",
    " Compiling YCM without semantic support for C-family languages:\n",
    " \n",
    " `cd ~/.vim/bundle/YouCompleteMe`\n",
    " \n",
    " `python3 install.py`\n",
    " \n",
    " if CmakeError:\n",
    " \n",
    " `rm -fr ~.vim/bundle/YouCompleteMe/third_party/ycmd/third_party/cregex`\n",
    " \n",
    " `cd ~.vim/bundle/YouCompleteMe/third_party/ycmd/third_party`\n",
    " \n",
    " `git submodule update --init --recursive`"
   ]
  }
 ],
 "metadata": {
  "kernelspec": {
   "display_name": "Python 3",
   "language": "python",
   "name": "python3"
  },
  "language_info": {
   "codemirror_mode": {
    "name": "ipython",
    "version": 3
   },
   "file_extension": ".py",
   "mimetype": "text/x-python",
   "name": "python",
   "nbconvert_exporter": "python",
   "pygments_lexer": "ipython3",
   "version": "3.6.8"
  }
 },
 "nbformat": 4,
 "nbformat_minor": 2
}
